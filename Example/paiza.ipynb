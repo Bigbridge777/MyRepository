{
 "cells": [
  {
   "cell_type": "code",
   "execution_count": 0,
   "metadata": {
    "application/vnd.databricks.v1+cell": {
     "cellMetadata": {},
     "inputWidgets": {},
     "nuid": "35617878-5bfb-4d61-8196-f80c4de18b64",
     "showTitle": false,
     "title": ""
    }
   },
   "outputs": [],
   "source": [
    "str1 = \"####\""
   ]
  },
  {
   "cell_type": "code",
   "execution_count": 0,
   "metadata": {
    "application/vnd.databricks.v1+cell": {
     "cellMetadata": {},
     "inputWidgets": {},
     "nuid": "e747e3fb-8179-4a54-8d05-e22c7bc30a6e",
     "showTitle": false,
     "title": ""
    }
   },
   "outputs": [],
   "source": [
    "str1"
   ]
  },
  {
   "cell_type": "code",
   "execution_count": 0,
   "metadata": {
    "application/vnd.databricks.v1+cell": {
     "cellMetadata": {},
     "inputWidgets": {},
     "nuid": "8c340765-b3fa-478c-b1e8-c1018812a2df",
     "showTitle": false,
     "title": ""
    }
   },
   "outputs": [],
   "source": [
    "lst = list(str1)"
   ]
  },
  {
   "cell_type": "code",
   "execution_count": 0,
   "metadata": {
    "application/vnd.databricks.v1+cell": {
     "cellMetadata": {},
     "inputWidgets": {},
     "nuid": "83db9fcf-110b-4dcc-9837-cb0cb5ccaed5",
     "showTitle": false,
     "title": ""
    }
   },
   "outputs": [],
   "source": [
    "lst"
   ]
  },
  {
   "cell_type": "code",
   "execution_count": 0,
   "metadata": {
    "application/vnd.databricks.v1+cell": {
     "cellMetadata": {},
     "inputWidgets": {},
     "nuid": "71980ffb-dd96-42f7-a5d4-e53cb8587d19",
     "showTitle": false,
     "title": ""
    }
   },
   "outputs": [],
   "source": [
    "#文字列の配列の操作\n",
    "h, w = map(int, input().split())\n",
    "\n",
    "a = []\n",
    "for i in range(h):\n",
    "    a.append(list(input()))\n",
    "\n",
    "y, x = map(int, input().split())\n",
    "\n",
    "if a[y][x] == '.':\n",
    "    a[y][x] = '#'\n",
    "else:\n",
    "    a[y][x] = '.'\n",
    "\n",
    "for row in a:\n",
    "    print(''.join(row))"
   ]
  },
  {
   "cell_type": "code",
   "execution_count": 0,
   "metadata": {
    "application/vnd.databricks.v1+cell": {
     "cellMetadata": {},
     "inputWidgets": {},
     "nuid": "31d0ef95-ac67-4b59-8834-ba7eeb262356",
     "showTitle": false,
     "title": ""
    }
   },
   "outputs": [],
   "source": [
    "move = (-1, 1)"
   ]
  },
  {
   "cell_type": "code",
   "execution_count": 0,
   "metadata": {
    "application/vnd.databricks.v1+cell": {
     "cellMetadata": {},
     "inputWidgets": {},
     "nuid": "aff2a386-8646-45e9-8992-f747cfa5bf52",
     "showTitle": false,
     "title": ""
    }
   },
   "outputs": [],
   "source": [
    "#盤面の上下左右を操作\n",
    "\n",
    "h, w = map(int, input().split())\n",
    "move = (-1, 1)\n",
    "\n",
    "a = []\n",
    "for i in range(h):\n",
    "    a.append(list(input()))\n",
    "\n",
    "y, x = map(int, input().split())\n",
    "if a[y][x] == '.':\n",
    "    a[y][x] = '#'\n",
    "else:\n",
    "    a[y][x] = '.'\n",
    "\n",
    "for i in range(2):\n",
    "    if 0 <= y + move[i] and y + move[i] < h:\n",
    "        if a[y + move[i]][x] == '.':\n",
    "            a[y + move[i]][x] = '#'\n",
    "        else:\n",
    "            a[y + move[i]][x] = '.'\n",
    "    if 0 <= x + move[i] and x + move[i] < w:\n",
    "        if a[y][x + move[i]] == '.':\n",
    "            a[y][x + move[i]] = '#'\n",
    "        else:\n",
    "            a[y][x + move[i]] = '.'\n",
    "\n",
    "for row in a:\n",
    "    print(''.join(row))"
   ]
  },
  {
   "cell_type": "code",
   "execution_count": 0,
   "metadata": {
    "application/vnd.databricks.v1+cell": {
     "cellMetadata": {},
     "inputWidgets": {},
     "nuid": "f2aa1462-4631-4540-88b7-4a3ff7fb3bcd",
     "showTitle": false,
     "title": ""
    }
   },
   "outputs": [],
   "source": [
    "#盤面の縦横斜列を操作\n",
    "\n",
    "h, w = map(int, input().split())\n",
    "move = (-1, 1)\n",
    "\n",
    "a = []\n",
    "for i in range(h):\n",
    "    a.append(list(input()))\n",
    "\n",
    "y, x = map(int, input().split())\n",
    "if a[y][x] == '.':\n",
    "    a[y][x] = '#'\n",
    "else:\n",
    "    a[y][x] = '.'\n",
    "\n",
    "#縦一列\n",
    "for 0 <= y_t < h:\n",
    "    if y_t == y:\n",
    "        continue\n",
    "    else:\n",
    "        if a[y_t][x] == '.':\n",
    "            a[y_t][x] = '#'\n",
    "        else:\n",
    "            a[y_t][x] = '.'\n",
    "\n",
    "#横一列\n",
    "for 0 <= x_t < w:\n",
    "    if x_t == x:\n",
    "        continue\n",
    "    else:\n",
    "        if a[y][x_t] == '.':\n",
    "            a[y][x_t] = '#'\n",
    "        else:\n",
    "            a[y][x_t] = '.'\n",
    "\n",
    "#斜め\n",
    "mov = h\n",
    "if w > mov:\n",
    "    mov = w\n",
    "\n",
    "for i in range(-mov, mov):\n",
    "    if i == 0:\n",
    "        continue\n",
    "    if 0 <= y + i and y + i < h and 0 <= x + i and x + i < w:\n",
    "        if a[y + i][x + i] == '.':\n",
    "            a[y + i][x + i] = '#'\n",
    "        else:\n",
    "            a[y + i][x + i] = '.'\n",
    "\n",
    "    if 0 <= y + i and y + i < h and 0 <= x - i and x - i < w:\n",
    "        if a[y + i][x - i] == '.':\n",
    "            a[y + i][x - i] = '#'\n",
    "        else:\n",
    "            a[y + i][x - i] = '.'\n",
    "\n",
    "for row in a:\n",
    "    print(''.join(row))"
   ]
  },
  {
   "cell_type": "code",
   "execution_count": 0,
   "metadata": {
    "application/vnd.databricks.v1+cell": {
     "cellMetadata": {},
     "inputWidgets": {},
     "nuid": "fded0c77-2e4f-4c64-9496-77f86ecd7dbb",
     "showTitle": false,
     "title": ""
    }
   },
   "outputs": [],
   "source": [
    "#盤面の縦横斜列を操作 パターン2\n",
    "\n",
    "h, w = map(int, input().split())\n",
    "move = (-1, 1)\n",
    "\n",
    "a = []\n",
    "for i in range(h):\n",
    "    a.append(list(input()))\n",
    "\n",
    "y, x = map(int, input().split())\n",
    "\n",
    "for i in range(h):\n",
    "    if a[i][x] == '.':\n",
    "        a[i][x] = '#'\n",
    "    else:\n",
    "        a[i][x] = '.'\n",
    "        \n",
    "for i in range(w):\n",
    "    if a[y][i] == '.':\n",
    "        a[y][i] = '#'\n",
    "    else:\n",
    "        a[y][i] = '.'\n",
    "        \n",
    "for i in range(min(h, w)):\n",
    "    if y + i < h:\n",
    "        if x + i < w:\n",
    "            if a[y + i][x + i] == '.':\n",
    "                a[y + i][x + i] = '#'\n",
    "            else:\n",
    "                a[y + i][x + i] = '.'\n",
    "        if 0 <= x - i:\n",
    "            if a[y + i][x - i] == '.':\n",
    "                a[y + i][x - i] = '#'\n",
    "            else:\n",
    "                a[y + i][x - i] = '.'\n",
    "    if 0 <= y - i:\n",
    "        if x + i < w:\n",
    "            if a[y - i][x + i] == '.':\n",
    "                a[y - i][x + i] = '#'\n",
    "            else:\n",
    "                a[y - i][x + i] = '.'\n",
    "        if 0 <= x - i:\n",
    "            if a[y - i][x - i] == '.':\n",
    "                a[y - i][x - i] = '#'\n",
    "            else:\n",
    "                a[y - i][x - i] = '.'\n",
    "                \n",
    "if a[y][x] == '.':\n",
    "    a[y][x] = '#'\n",
    "else:\n",
    "    a[y][x] = '.'\n",
    "    \n",
    "for row in a:\n",
    "    print(''.join(row))"
   ]
  },
  {
   "cell_type": "code",
   "execution_count": 0,
   "metadata": {
    "application/vnd.databricks.v1+cell": {
     "cellMetadata": {},
     "inputWidgets": {},
     "nuid": "763e8aba-b3b4-4659-b568-393370b9a831",
     "showTitle": false,
     "title": ""
    }
   },
   "outputs": [],
   "source": [
    "h = 5\n",
    "w = 3"
   ]
  },
  {
   "cell_type": "code",
   "execution_count": 0,
   "metadata": {
    "application/vnd.databricks.v1+cell": {
     "cellMetadata": {},
     "inputWidgets": {},
     "nuid": "75794fd8-eda6-4273-95c6-429fcab4589b",
     "showTitle": false,
     "title": ""
    }
   },
   "outputs": [],
   "source": [
    "min(h, w)"
   ]
  },
  {
   "cell_type": "code",
   "execution_count": 0,
   "metadata": {
    "application/vnd.databricks.v1+cell": {
     "cellMetadata": {},
     "inputWidgets": {},
     "nuid": "0d0e278e-c357-4c08-9edf-6aa0464e524f",
     "showTitle": false,
     "title": ""
    }
   },
   "outputs": [],
   "source": [
    "#斜めナンバリング\n",
    "h, w, d = map(int, input().split())\n",
    "\n",
    "a = [[0 for i in range(w)] for j in range(h)]\n",
    "\n",
    "count = 1\n",
    "if d == 1:\n",
    "    a[0][0] = 1\n",
    "    count += 1\n",
    "    for i in range(1, h):\n",
    "        for j in range(min(i, w- 1) + 1):\n",
    "            a[i - j][j] = count\n",
    "            count += 1\n",
    "    for i in range(1, w):\n",
    "        for j in range(min(h, w - i)):\n",
    "            a[h - 1 - j][i + j] = count\n",
    "            count += 1\n",
    "elif d == 2:\n",
    "    for i in range(h):\n",
    "        for j in range(w):\n",
    "            a[i][j] = count;\n",
    "            count += 1\n",
    "elif d == 3:\n",
    "    for i in range(w):\n",
    "        for j in range(h):\n",
    "            a[j][i] = count\n",
    "            count += 1\n",
    "else:\n",
    "    a[0][0] = 1\n",
    "    count += 1\n",
    "    for i in range(1, w):\n",
    "        for j in range(min(i, h - 1) + 1):\n",
    "            a[j][i - j] = count;\n",
    "            count += 1\n",
    "    for i in range(1, h):\n",
    "        for j in range(min(h - i, w)):\n",
    "            a[i + j][w - 1 - j] = count\n",
    "            count += 1\n",
    "\n",
    "for row in a:\n",
    "    print(' '.join(map(str, row)))"
   ]
  },
  {
   "cell_type": "code",
   "execution_count": 0,
   "metadata": {
    "application/vnd.databricks.v1+cell": {
     "cellMetadata": {},
     "inputWidgets": {},
     "nuid": "267414df-1f17-4440-83c1-0d25b43be75d",
     "showTitle": false,
     "title": ""
    }
   },
   "outputs": [],
   "source": [
    "6 // 4"
   ]
  },
  {
   "cell_type": "code",
   "execution_count": 0,
   "metadata": {
    "application/vnd.databricks.v1+cell": {
     "cellMetadata": {},
     "inputWidgets": {},
     "nuid": "88736846-1711-4f66-9dbf-96f0607c1eca",
     "showTitle": false,
     "title": ""
    }
   },
   "outputs": [],
   "source": [
    "#反復横跳び\n",
    "N, X, K = map(int, input().split())\n",
    "\n",
    "count = (K - 4 * N) // 4\n",
    "\n",
    "if K % 4 == 3:\n",
    "    print(2 * X * count + X)\n",
    "else:\n",
    "    print(2 * X * count)"
   ]
  },
  {
   "cell_type": "code",
   "execution_count": 0,
   "metadata": {
    "application/vnd.databricks.v1+cell": {
     "cellMetadata": {},
     "inputWidgets": {},
     "nuid": "bd7a558d-4bb9-4a57-9c13-6c61d681e038",
     "showTitle": false,
     "title": ""
    }
   },
   "outputs": [],
   "source": [
    "#トランプシャッフル\n",
    "def shuffle(trump_in):\n",
    "    trump1 = trump_in[:26]\n",
    "    trump2 = trump_in[26:]\n",
    "    trump = []\n",
    "    for i in range(26):\n",
    "        trump.append(trump1[i])\n",
    "        trump.append(trump2[i])\n",
    "    return trump\n",
    "    \n",
    "K = int(input())\n",
    "\n",
    "trump = []\n",
    "for i in range(1, 14):\n",
    "    trump.append(f\"S_{i}\")\n",
    "for i in range(1, 14):\n",
    "    trump.append(f\"H_{i}\")\n",
    "for i in range(1, 14):\n",
    "    trump.append(f\"D_{i}\")\n",
    "for i in range(1, 14):\n",
    "    trump.append(f\"C_{i}\")\n",
    "    \n",
    "for _ in range(K):\n",
    "    trump = shuffle(trump)\n",
    "    \n",
    "for row in trump:\n",
    "    print(row)"
   ]
  },
  {
   "cell_type": "code",
   "execution_count": 0,
   "metadata": {
    "application/vnd.databricks.v1+cell": {
     "cellMetadata": {},
     "inputWidgets": {},
     "nuid": "7faadb5e-db4a-40d5-b572-ddc68637aad0",
     "showTitle": false,
     "title": ""
    }
   },
   "outputs": [],
   "source": [
    "#シャッフル回答例\n",
    "K = int(input())\n",
    "ans = []\n",
    "for i in range(4):\n",
    "    for j in range(1, 14):\n",
    "        card = \"\"\n",
    "        if i == 0:\n",
    "            card += \"S_\"\n",
    "        elif i == 1:\n",
    "            card += \"H_\"\n",
    "        elif i == 2:\n",
    "            card += \"D_\"\n",
    "        else:\n",
    "            card += \"C_\"\n",
    "        card += str(j)\n",
    "        ans.append(card)\n",
    "for i in range(K):\n",
    "    # res=ansと書くとansの変化によってresも変わる(参照渡し)ため,スライシングで値だけを渡す.\n",
    "    res = ans[:]\n",
    "    for j in range(26):\n",
    "        # 下半分のj番目のカード\n",
    "        ans[2*j] = res[26+(26-j)-1]\n",
    "        # 上半分のj番目のカード\n",
    "        ans[2*j+1] = res[(26-j)-1]\n",
    "for x in ans:\n",
    "    print(x)"
   ]
  },
  {
   "cell_type": "code",
   "execution_count": 0,
   "metadata": {
    "application/vnd.databricks.v1+cell": {
     "cellMetadata": {},
     "inputWidgets": {},
     "nuid": "76868e9b-6edb-4221-bb1b-abe4f140c8bb",
     "showTitle": false,
     "title": ""
    }
   },
   "outputs": [],
   "source": [
    "#燃料\n",
    "X  = int(input())\n",
    "F_1, F_2 = map(int, input().split())\n",
    "L, N =  map(int, input().split())\n",
    "\n",
    "history = list(map(int, input().split()))\n",
    "if history[N - 1] != L:\n",
    "    history.append(L)\n",
    "    N += 1\n",
    "\n",
    "def calc_fuel(start, stop):\n",
    "    distance = stop - start\n",
    "    if distance <= X:\n",
    "        return distance * F_1\n",
    "    else:\n",
    "        return (X * F_1 + (distance - X) * F_2)\n",
    "\n",
    "total = calc_fuel(0, history[0])\n",
    "\n",
    "for i in range(1, N):\n",
    "    total += calc_fuel(history[i - 1], history[i])\n",
    "\n",
    "print(total)"
   ]
  },
  {
   "cell_type": "code",
   "execution_count": 0,
   "metadata": {
    "application/vnd.databricks.v1+cell": {
     "cellMetadata": {},
     "inputWidgets": {},
     "nuid": "da2c2978-33c6-4098-9947-59df5cedce60",
     "showTitle": false,
     "title": ""
    }
   },
   "outputs": [],
   "source": [
    "#燃料別解\n",
    "X  = int(input())\n",
    "F_1, F_2 = map(int, input().split())\n",
    "L, N =  map(int, input().split())\n",
    "\n",
    "history = list(map(int, input().split()))\n",
    "if history[N - 1] != L:\n",
    "    history.append(L)\n",
    "    N += 1\n",
    "\n",
    "now = 0\n",
    "ans = 0\n",
    "for i in range(N):\n",
    "    if X < history[i] - now:\n",
    "        ans += F_1 * X + F_2 * (history[i] - now - X)\n",
    "    else:\n",
    "        ans += F_1 * (history[i] - now)\n",
    "        \n",
    "    now = history[i]\n",
    "    \n",
    "print(ans)"
   ]
  },
  {
   "cell_type": "code",
   "execution_count": 0,
   "metadata": {
    "application/vnd.databricks.v1+cell": {
     "cellMetadata": {},
     "inputWidgets": {},
     "nuid": "36aebeae-3e62-47d4-bd60-126e67c4b7f3",
     "showTitle": false,
     "title": ""
    }
   },
   "outputs": [],
   "source": [
    "n = 3\n",
    "data = []\n",
    "data.append([0, 0, 0])\n",
    "data.append([50, -100, -100])\n",
    "data.append([100, 100, 100])\n",
    "    \n",
    "data_ind = 0\n",
    "location = []\n",
    "\n",
    "for i in range(101):\n",
    "    while data[data_ind][0] < i:\n",
    "        data_ind += 1\n",
    "    \n",
    "    if data[data_ind][0] == i:\n",
    "        location.append((data[data_ind][1], data[data_ind][2]))\n",
    "    else:\n",
    "        t2, y2, x2 = data[data_ind]\n",
    "        t1, y1, x1 = data[data_ind - 1]\n",
    "        y_out = round(y1 + ((y2 - y1) / (t2 - t1)) * (i - t1))\n",
    "        x_out = round(x1 + ((x2 - x1) / (t2 - t1)) * (i - t1))\n",
    "        location.append((y_out, x_out))\n",
    "\n",
    "for i in location:\n",
    "    print(i[0], i[1])\n",
    "    "
   ]
  },
  {
   "cell_type": "code",
   "execution_count": 0,
   "metadata": {
    "application/vnd.databricks.v1+cell": {
     "cellMetadata": {},
     "inputWidgets": {},
     "nuid": "3020a9b6-b429-43f5-9bd2-41d9f464784e",
     "showTitle": false,
     "title": ""
    }
   },
   "outputs": [],
   "source": [
    "# クラス継承\n",
    "class Customer:\n",
    "    def __init__(self):\n",
    "        self.sum = 0\n",
    "\n",
    "    def take_food(self, price):\n",
    "        self.sum += price\n",
    "\n",
    "    def take_softdrink(self, price):\n",
    "        self.sum += price\n",
    "\n",
    "    def take_alcohol(self, price=500):\n",
    "        # 何もしない (却下)\n",
    "        pass\n",
    "\n",
    "    def get_sum(self):\n",
    "        return self.sum\n",
    "\n",
    "\n",
    "class Adult(Customer):\n",
    "    def __init__(self):\n",
    "        super().__init__()\n",
    "        self.alcohol = False\n",
    "\n",
    "    def take_food(self, price):\n",
    "        if self.alcohol:\n",
    "            self.sum += price - 200\n",
    "        else:\n",
    "            self.sum += price\n",
    "\n",
    "    def take_alcohol(self, price=500):\n",
    "        self.sum += price\n",
    "        self.alcohol = True\n",
    "\n",
    "\n",
    "n, k = [int(x) for x in input().split()]\n",
    "\n",
    "customers = [None] * n\n",
    "for i in range(n):\n",
    "    age = int(input())\n",
    "\n",
    "    if age >= 20:\n",
    "        customers[i] = Adult()\n",
    "    else:\n",
    "        customers[i] = Customer()\n",
    "\n",
    "for _ in range(k):\n",
    "    values = input().split()\n",
    "\n",
    "    index = int(values[0]) - 1\n",
    "    order = values[1]\n",
    "    if order =='0':\n",
    "        customers[index].take_alcohol()\n",
    "    else:\n",
    "        price = int(values[2])\n",
    "        if order == \"food\":\n",
    "            customers[index].take_food(price)\n",
    "        elif order == \"softdrink\":\n",
    "            customers[index].take_softdrink(price)\n",
    "        else:\n",
    "            customers[index].take_alcohol(price)\n",
    "\n",
    "for customer in customers:\n",
    "    print(customer.get_sum())"
   ]
  },
  {
   "cell_type": "code",
   "execution_count": 0,
   "metadata": {
    "application/vnd.databricks.v1+cell": {
     "cellMetadata": {},
     "inputWidgets": {},
     "nuid": "ebab4966-7767-4aff-837b-ba5c3a8be88f",
     "showTitle": false,
     "title": ""
    }
   },
   "outputs": [],
   "source": [
    "class Point:\n",
    "    def __init__(self, keyword, path_a, path_b):\n",
    "        self.keyword = keyword\n",
    "        self.path_a = path_a\n",
    "        self.path_b = path_b\n",
    "\n",
    "    def get_keyword(self):\n",
    "        return self.keyword\n",
    "\n",
    "    def get_path(self, direction):\n",
    "        if direction == 1:\n",
    "            return self.path_a\n",
    "        else:\n",
    "            return self.path_b\n",
    "\n",
    "\n",
    "n, k, s = [int(x) for x in input().split()]\n",
    "\n",
    "maze = [None] * n\n",
    "for i in range(n):\n",
    "    values = input().split()\n",
    "\n",
    "    keyword = values[0]\n",
    "    path_a = int(values[1]) - 1\n",
    "    path_b = int(values[2]) - 1\n",
    "\n",
    "    maze[i] = Point(keyword, path_a, path_b)\n",
    "\n",
    "now_point = maze[s-1]\n",
    "ans = now_point.get_keyword()\n",
    "for _ in range(k):\n",
    "    direction = int(input())\n",
    "\n",
    "    to = now_point.get_path(direction)\n",
    "    now_point = maze[to]\n",
    "    ans += now_point.get_keyword()\n",
    "\n",
    "print(ans)"
   ]
  },
  {
   "cell_type": "code",
   "execution_count": 0,
   "metadata": {
    "application/vnd.databricks.v1+cell": {
     "cellMetadata": {},
     "inputWidgets": {},
     "nuid": "71a1e2f0-bf67-41a9-9e87-0c972acd2696",
     "showTitle": false,
     "title": ""
    }
   },
   "outputs": [],
   "source": [
    "class Hero:\n",
    "    def __init__(self, lv, hp, at, df, sp, cl, ft):\n",
    "        self.lv = lv\n",
    "        self.hp = hp\n",
    "        self.at = at\n",
    "        self.df = df\n",
    "        self.sp = sp\n",
    "        self.cl = cl\n",
    "        self.ft = ft\n",
    "\n",
    "    def levelup(self, hp, at, df, sp, cl, ft):\n",
    "        self.lv += 1\n",
    "        self.hp += hp\n",
    "        self.at += at\n",
    "        self.df += df\n",
    "        self.sp += sp\n",
    "        self.cl += cl\n",
    "        self.ft += ft\n",
    "\n",
    "    def muscle_training(self, hp, at):\n",
    "        self.hp += hp\n",
    "        self.at += at\n",
    "\n",
    "    def running(self, df, sp):\n",
    "        self.df += df\n",
    "        self.sp += sp\n",
    "\n",
    "    def study(self, cl):\n",
    "        self.cl += cl\n",
    "\n",
    "    def pray(self, ft):\n",
    "        self.ft += ft\n",
    "\n",
    "    def print(self):\n",
    "        print(self.lv, self.hp, self.at, self.df, self.sp, self.cl, self.ft)\n",
    "\n",
    "\n",
    "n, k = [int(x) for x in input().split()]\n",
    "\n",
    "heroes = [None] * n\n",
    "for i in range(n):\n",
    "    lv, hp, at, df, sp, cl, ft = [int(x) for x in input().split()]\n",
    "    heroes[i] = Hero(lv, hp, at, df, sp, cl, ft)\n",
    "\n",
    "for _ in range(k):\n",
    "    values = input().split()\n",
    "\n",
    "    index = int(values.pop(0)) - 1\n",
    "    event = values.pop(0)\n",
    "\n",
    "    if event == \"levelup\":\n",
    "        hp, at, df, sp, cl, ft = [int(x) for x in values]\n",
    "        heroes[index].levelup(hp, at, df, sp, cl, ft)\n",
    "    elif event == \"muscle_training\":\n",
    "        hp, at = [int(x) for x in values]\n",
    "        heroes[index].muscle_training(hp, at)\n",
    "    elif event == \"running\":\n",
    "        df, sp = [int(x) for x in values]\n",
    "        heroes[index].running(df, sp)\n",
    "    elif event == \"study\":\n",
    "        cl = int(values[0])\n",
    "        heroes[index].study(cl)\n",
    "    else:\n",
    "        ft = int(values[0])\n",
    "        heroes[index].pray(ft)\n",
    "\n",
    "for hero in heroes:\n",
    "    hero.print()"
   ]
  },
  {
   "cell_type": "code",
   "execution_count": 0,
   "metadata": {
    "application/vnd.databricks.v1+cell": {
     "cellMetadata": {},
     "inputWidgets": {},
     "nuid": "642a8ef7-fee4-4d84-bc87-eb42cf21ab0c",
     "showTitle": false,
     "title": ""
    }
   },
   "outputs": [],
   "source": [
    "class Player:\n",
    "    def __init__(self, hp, f1, a1, f2, a2, f3, a3):\n",
    "        self.is_alive = True\n",
    "        self.hp = hp\n",
    "        self.waza[0].frame = f1\n",
    "        self.waza[0].attack = a1\n",
    "        self.waza[1].frame = f2\n",
    "        self.waza[1].attack = a2\n",
    "        self.waza[2].frame = f3\n",
    "        self.waza[2].attack = a3\n",
    "    \n",
    "    def get_damage(self, damage):\n",
    "        self.hp -= damage\n",
    "        if self.hp <= 0:\n",
    "            self.is_alive = False\n",
    "            \n",
    "    def get_frame(self, num):\n",
    "        return self.waza[num - 1].frame\n",
    "    \n",
    "    def get_attack(self, num):\n",
    "        return self.waza[num - 1].attack\n",
    "        \n",
    "    def kyoka(self, num):\n",
    "        if num == 1:\n",
    "            if self.waza[1].frame != 0:\n",
    "                self.waza[1].frame -= 3\n",
    "                if self.waza[1].frame < 1:\n",
    "                    self.waza[1].frame = 1\n",
    "                self.waza[1].attack += 5\n",
    "            "
   ]
  }
 ],
 "metadata": {
  "application/vnd.databricks.v1+notebook": {
   "dashboards": [],
   "language": "python",
   "notebookMetadata": {
    "pythonIndentUnit": 4
   },
   "notebookName": "paiza",
   "widgets": {}
  },
  "kernelspec": {
   "display_name": "Python 3 (ipykernel)",
   "language": "python",
   "name": "python3"
  },
  "language_info": {
   "codemirror_mode": {
    "name": "ipython",
    "version": 3
   },
   "file_extension": ".py",
   "mimetype": "text/x-python",
   "name": "python",
   "nbconvert_exporter": "python",
   "pygments_lexer": "ipython3",
   "version": "3.11.5"
  }
 },
 "nbformat": 4,
 "nbformat_minor": 0
}
